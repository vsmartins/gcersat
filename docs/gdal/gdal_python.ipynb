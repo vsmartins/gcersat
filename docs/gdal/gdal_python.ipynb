{
 "cells": [
  {
   "cell_type": "markdown",
   "source": [
    "# <span style=\"color:black;\">GDAL in Python</span>\n",
    "## <span style=\"color:black;\">Overview</span>\n",
    "\n",
    "By Vitor Martins, and revised by _____\n",
    "\n",
    "We learned that you can use GDAL programs, and now we  in Python to work with geospatial data, and this is typically done using the gdal Python module.\n",
    "\n",
    "```bash\n",
    "conda create -n geoml python=3.7\n",
    "conda activate geoml\n",
    "pip install wheel\n",
    "pip install pipwin\n",
    "pipwin install numpy\n",
    "pipwin install pandas\n",
    "pipwin install shapely\n",
    "pipwin install gdal\n",
    "\n",
    "ou\n",
    "\n",
    "conda install gdal\n",
    "\n",
    "pipwin install fiona\n",
    "pipwin install pyproj\n",
    "pipwin install six\n",
    "pipwin install rtree\n",
    "pip install geopandas\n",
    "pip install tensorflow-gpu\n",
    "pip install opencv-python\n",
    "pip install matplotlib\n",
    "pipwin pip\n",
    "conda install -c conda-forge scikit-learn\n",
    "conda install -c conda-forge rasterio  ## rasterio needs conda-forge\n",
    "\n",
    "```"
   ],
   "metadata": {
    "collapsed": false
   }
  },
  {
   "cell_type": "markdown",
   "source": [
    "## <span style=\"color:black;\">Packages for GeoSpatial</span>\n",
    "\n",
    "The GDAL installation is part of many software, including QGIS. I suggest the OSGeo4W for Windows. Go to the OSGeo4W website: https://trac.osgeo.org/osgeo4w/, select the 64-bit version (most computers), and run the installer. Once you finish it, you can open the command line and verify if your computer is \"finding\" the gdal programs (e.g., gdalinfo, gdal_translate, gdalwarp etc).\n"
   ],
   "metadata": {
    "collapsed": false
   }
  },
  {
   "cell_type": "markdown",
   "source": [
    "## <span style=\"color:black;\">Exploring satellite image</span>\n",
    "\n",
    "\n",
    "\n"
   ],
   "metadata": {
    "collapsed": false
   }
  },
  {
   "cell_type": "code",
   "execution_count": null,
   "outputs": [],
   "source": [
    "from osgeo import gdal\n",
    "\n",
    "dataset = gdal.Open(\"path/image.tif\")\n",
    "width = dataset.RasterXSize\n",
    "height = dataset.RasterYSize\n",
    "projection = dataset.GetProjection()\n",
    "geotransform = dataset.GetGeoTransform()\n",
    "band = dataset.GetRasterBand(1)  # Access the first band (bands are 1-based)\n",
    "data = band.ReadAsArray()\n",
    "dataset = None  # Close the dataset\n"
   ],
   "metadata": {
    "collapsed": false
   }
  },
  {
   "cell_type": "code",
   "execution_count": null,
   "outputs": [],
   "source": [
    "target_projection = \"EPSG:4326\"  # Define the target projection\n",
    "reprojected_dataset = gdal.Warp(\"output.tif\", dataset, dstSRS=target_projection)"
   ],
   "metadata": {
    "collapsed": false
   }
  },
  {
   "cell_type": "code",
   "execution_count": null,
   "outputs": [],
   "source": [
    "import matplotlib.pyplot as plt\n",
    "from osgeo import gdal\n",
    "\n",
    "# Open the single-band satellite image using GDAL\n",
    "dataset = gdal.Open(\"path/to/single_band_image.tif\")\n",
    "band = dataset.GetRasterBand(1)  # Access the first (and only) band\n",
    "\n",
    "# Read the pixel data into a NumPy array\n",
    "data = band.ReadAsArray()\n",
    "\n",
    "# Create a plot\n",
    "plt.figure(figsize=(8, 8))  # Set the figure size\n",
    "plt.imshow(data, cmap='gray')  # Plot the data as a grayscale image\n",
    "\n",
    "# Add a colorbar for reference\n",
    "plt.colorbar(label='Pixel Value')\n",
    "\n",
    "# Set axis labels and title\n",
    "plt.xlabel('X-axis')\n",
    "plt.ylabel('Y-axis')\n",
    "plt.title('Single-Band Satellite Image')\n",
    "\n",
    "# Display the plot\n",
    "plt.show()\n",
    "\n",
    "# Close the dataset\n",
    "dataset = None"
   ],
   "metadata": {
    "collapsed": false
   }
  },
  {
   "cell_type": "code",
   "execution_count": null,
   "outputs": [],
   "source": [
    "import matplotlib.pyplot as plt\n",
    "from osgeo import gdal\n",
    "import numpy as np\n",
    "\n",
    "# Open the RGB satellite image using GDAL\n",
    "dataset = gdal.Open(\"path/to/rgb_image.tif\")\n",
    "\n",
    "# Read individual bands\n",
    "red_band = dataset.GetRasterBand(1)\n",
    "green_band = dataset.GetRasterBand(2)\n",
    "blue_band = dataset.GetRasterBand(3)\n",
    "\n",
    "# Read the pixel data into NumPy arrays\n",
    "red_data = red_band.ReadAsArray()\n",
    "green_data = green_band.ReadAsArray()\n",
    "blue_data = blue_band.ReadAsArray()\n",
    "\n",
    "# Stack the RGB bands to create a true-color image\n",
    "rgb_image = np.stack((red_data, green_data, blue_data), axis=-1)\n",
    "\n",
    "# Create a plot\n",
    "plt.figure(figsize=(8, 8))  # Set the figure size\n",
    "plt.imshow(rgb_image)  # Plot the RGB image\n",
    "\n",
    "# Set axis labels and title\n",
    "plt.xlabel('X-axis')\n",
    "plt.ylabel('Y-axis')\n",
    "plt.title('RGB Satellite Image')\n",
    "\n",
    "# Display the plot\n",
    "plt.show()\n",
    "\n",
    "# Close the dataset\n",
    "dataset = None"
   ],
   "metadata": {
    "collapsed": false
   }
  },
  {
   "cell_type": "markdown",
   "source": [
    "## <span style=\"color:black;\">Crop image</span>\n",
    "\n",
    "```sh\n",
    "gdalinfo LC08_L2SP_022039_20190322_20200829_02_T1_SR_B2.TIF\n",
    "```"
   ],
   "metadata": {
    "collapsed": false
   }
  },
  {
   "cell_type": "code",
   "execution_count": null,
   "outputs": [],
   "source": [
    "from osgeo import gdal, ogr, gdal_translate\n",
    "input_image_path = \"path/to/input_image.tif\"\n",
    "input_dataset = gdal.Open(input_image_path)\n",
    "\n",
    "shapefile_path = \"path/to/shapefile.shp\"\n",
    "shapefile_ds = ogr.Open(shapefile_path)\n",
    "layer = shapefile_ds.GetLayer()\n",
    "\n",
    "feature = layer.GetNextFeature()\n",
    "cropping_geometry = feature.GetGeometryRef()\n",
    "\n",
    "output_image_path = \"path/to/output_image.tif\"\n",
    "gdal.Warp(output_image_path, input_dataset, cutlineDSName=shapefile_path, cutlineLayer=layer.GetName(), dstNodata=0)\n",
    "\n",
    "input_dataset = None\n",
    "shapefile_ds = None\n"
   ],
   "metadata": {
    "collapsed": false
   }
  },
  {
   "cell_type": "code",
   "execution_count": null,
   "outputs": [],
   "source": [
    "def write_geotiff(fname, data, geo_transform, projection):\n",
    "    \"\"\"Create a GeoTIFF file with the given data.\"\"\"\n",
    "    driver = gdal.GetDriverByName('GTiff')\n",
    "    rows, cols = data.shape\n",
    "    dataset = driver.Create(fname, cols, rows, 1, gdal.GDT_Byte)\n",
    "    dataset.SetGeoTransform(geo_transform)\n",
    "    dataset.SetProjection(projection)\n",
    "    band = dataset.GetRasterBand(1)\n",
    "    band.WriteArray(data)\n",
    "    dataset = None  # Close the file"
   ],
   "metadata": {
    "collapsed": false
   }
  },
  {
   "cell_type": "code",
   "execution_count": null,
   "outputs": [],
   "source": [
    "# MOSAIC\n",
    "\n",
    "import glob\n",
    "from osgeo import gdal\n",
    "\n",
    "# Get a list of all the image files\n",
    "image_files = glob.glob('*.tif')\n",
    "\n",
    "# Create a VRT file\n",
    "vrt_file = 'mosaic.vrt'\n",
    "vrt_options = gdal.BuildVRTOptions(resampleAlg='average')\n",
    "gdal.BuildVRT(vrt_file, image_files, options=vrt_options)\n",
    "\n",
    "# Read the VRT file and save it as a new mosaic image\n",
    "mosaic_ds = gdal.Open(vrt_file)\n",
    "mosaic_data = mosaic_ds.ReadAsArray()\n",
    "mosaic_trans = mosaic_ds.GetGeoTransform()\n",
    "mosaic_proj = mosaic_ds.GetProjection()\n",
    "\n",
    "mosaic_file = 'mosaic.tif'\n",
    "mosaic_driver = gdal.GetDriverByName('GTiff')\n",
    "mosaic_ds = mosaic_driver.Create(mosaic_file, mosaic_data.shape[1], mosaic_data.shape[0], 1, gdal.GDT_Float32)\n",
    "mosaic_ds.SetGeoTransform(mosaic_trans)\n",
    "mosaic_ds.SetProjection(mosaic_proj)\n",
    "mosaic_ds.GetRasterBand(1).WriteArray(mosaic_data)\n",
    "\n",
    "# Close the datasets\n",
    "mosaic_ds = None\n",
    "mosaic_ds = None"
   ],
   "metadata": {
    "collapsed": false
   }
  },
  {
   "cell_type": "code",
   "execution_count": null,
   "outputs": [],
   "source": [
    "def geo_to_pixel_coords(x, y, geotrans, cols, rows):\n",
    "    # type: (float, float, tuple, int, int) -> (int, int)\n",
    "    \"\"\"\n",
    "    Convert geo-coordinates to grid-coordinates\n",
    "\n",
    "    :param x: x-coordinate\n",
    "    :param y: y-coordinate\n",
    "    :param cols: number of columns of input image (x-size)\n",
    "    :param rows: number of rows of input image (y-size)\n",
    "    :param geotrans: GeoTransformObject from gdalDataSource or tuple with (xMin, cellWidth,\n",
    "            xRotation, yMax, yRotation, cellHeight). cellHeight has to be negative!\n",
    "    :return: Column and row at given position (col, row)\n",
    "    \"\"\"\n",
    "    ulx = geotrans[0]\n",
    "    uly = geotrans[3]\n",
    "    lrx = geotrans[0] + cols * geotrans[1]\n",
    "    lry = geotrans[3] + rows * geotrans[5]\n",
    "    if x < ulx or x > lrx or y < lry or y > uly:\n",
    "        raise ValueError('Coordinate is outside the image!')\n",
    "    # do the math\n",
    "    x_pix = int(math.floor((x - ulx) / geotrans[1]))\n",
    "    y_pix = int(math.floor((uly - y) / -geotrans[5]))\n",
    "    return x_pix, y_pix\n",
    "\n",
    "\n",
    "def pixel_to_geo_coords(col, row, geotrans, loc='center'):\n",
    "    # type: (int, int, tuple, str) -> (float, float)\n",
    "    \"\"\"\n",
    "    Convert grid-coordinates to geo-coordinates\n",
    "\n",
    "    :param col: column number (counting starts at 0)\n",
    "    :param row: row number (counting starts at 0)\n",
    "    :param geotrans: GeoTransformObject from gdalDataSource or tuple with (xMin, cellWidth,\n",
    "            xRotation, yMax, yRotation, cellHeight). cellHeight has to be nagtive!\n",
    "    :param loc: location within the pixel. One of \"center\", \"ul\", \"ur\", \"ll\", \"lr\"\n",
    "    :return: Coordinates at given grid cell (x, y)\n",
    "    \"\"\"\n",
    "    ulx = geotrans[0]\n",
    "    xres = geotrans[1]\n",
    "    xrot = geotrans[2]\n",
    "    uly = geotrans[3]\n",
    "    yrot = geotrans[4]\n",
    "    yres = geotrans[5]\n",
    "    # do the math\n",
    "    if loc == 'center':\n",
    "        xgeo = ulx + col * xres + xres / 2. + row * xrot\n",
    "        ygeo = uly + row * yres + yres / 2. + col * yrot\n",
    "    elif loc == 'ul':\n",
    "        xgeo = ulx + col * xres + row * xrot\n",
    "        ygeo = uly + row * yres + col * yrot\n",
    "    elif loc == 'll':\n",
    "        xgeo = ulx + col * xres + row * xrot\n",
    "        ygeo = uly + row * yres + yres + col * yrot\n",
    "    elif loc == 'ur':\n",
    "        xgeo = ulx + col * xres + xres + row * xrot\n",
    "        ygeo = uly + row * yres + col * yrot\n",
    "    elif loc == 'lr':\n",
    "        xgeo = ulx + col * xres + xres + row * xrot\n",
    "        ygeo = uly + row * yres + yres + col * yrot\n",
    "    else:\n",
    "        raise ValueError('loc only takes one of \"center\", \"ul\", \"ur\", \"ll\", \"lr\"!')\n",
    "    return xgeo, ygeo\n"
   ],
   "metadata": {
    "collapsed": false
   }
  },
  {
   "cell_type": "code",
   "execution_count": null,
   "outputs": [],
   "source": [
    "from osgeo import gdal\n",
    "import numpy as np\n",
    "import matplotlib.pyplot as plt\n",
    "\n",
    "ds = gdal.Open(\"dem.tif\")\n",
    "\n",
    "# reproject\n",
    "dsReprj = gdal.Warp(\"demReprj.tif\", ds, dstSRS = \"EPSG:4326\")\n",
    "# resample\n",
    "dsRes = gdal.Warp(\"demRes.tif\", ds, xRes = 150, yRes = 150,\n",
    "                  resampleAlg = \"bilinear\")\n",
    "# extraction\n",
    "# make sure your rastermgt data and shapefile have the same projection!\n",
    "dsClip = gdal.Warp(\"demClip.tif\", ds, cutlineDSName = \"star.shp\",\n",
    "                   cropToCutline = True, dstNodata = np.nan)\n",
    "\n",
    "# visualize\n",
    "array = dsClip.GetRasterBand(1).ReadAsArray()\n",
    "plt.figure()\n",
    "plt.imshow(array)\n",
    "plt.colorbar()\n",
    "plt.show()\n",
    "\n",
    "# close your datasets!\n",
    "ds = dsClip = dsRes = dsReprj = None"
   ],
   "metadata": {
    "collapsed": false
   }
  },
  {
   "cell_type": "code",
   "execution_count": null,
   "outputs": [],
   "source": [
    "from osgeo import gdal\n",
    "import numpy as np\n",
    "import matplotlib.pyplot as plt\n",
    "\n",
    "srcfile = r'V:\\temp\\sentinel.tif'\n",
    "dstfile = r'V:\\temp\\sentinel_out.tif'\n",
    "\n",
    "# reproject\n",
    "ds = gdal.Open(srcfile)\n",
    "dsReprj = gdal.Warp(dstfile, ds, dstSRS=\"EPSG:4326\")\n",
    "\n",
    "# resample\n",
    "srcfile = r'V:\\temp\\sentinel.tif'\n",
    "dstfile = r'V:\\temp\\sentinel_out2.tif'\n",
    "ds = gdal.Open(srcfile)\n",
    "dsRes = gdal.Warp(dstfile, ds, xRes=100, yRes=100, resampleAlg=\"bilinear\")\n",
    "\n",
    "# extraction\n",
    "srcfile = r'V:\\temp\\sentinel.tif'\n",
    "src_shp = r'V:\\temp\\tt.shp'\n",
    "dstfile = r'V:\\temp\\sentinel_out4.tif'\n",
    "\n",
    "ds = gdal.Open(srcfile)\n",
    "# make sure your rastermgt data and shapefile have the same projection!\n",
    "dsClip = gdal.Warp(dstfile, ds, cutlineDSName=src_shp, cropToCutline=True, dstNodata=0)\n",
    "\n",
    "# close your datasets!\n",
    "ds = dsClip = dsRes = dsReprj = None"
   ],
   "metadata": {
    "collapsed": false
   }
  },
  {
   "cell_type": "code",
   "execution_count": null,
   "outputs": [],
   "source": [
    "from osgeo import gdal\n",
    "\n",
    "def export_image_2d(path_output_img, d2array, ds_gdal):\n",
    "\n",
    "    # create image driver\n",
    "    driver = gdal.GetDriverByName('GTiff')\n",
    "    # create destination for label file\n",
    "    file = driver.Create(path_output_img,\n",
    "                         d2array.shape[1],\n",
    "                         d2array.shape[0],\n",
    "                         1,\n",
    "                         gdal.GDT_Byte, ['COMPRESS=LZW'])\n",
    "    file.SetGeoTransform(ds_gdal.GetGeoTransform())\n",
    "    file.SetProjection(ds_gdal.GetProjection())\n",
    "    file.GetRasterBand(1).SetNoDataValue(0)\n",
    "    # write label file\n",
    "    file.GetRasterBand(1).WriteArray(d2array)\n",
    "    file.FlushCache()  ##saves to disk!!\n",
    "    file = None\n",
    "    ds = None\n",
    "    driver = None"
   ],
   "metadata": {
    "collapsed": false
   }
  },
  {
   "cell_type": "markdown",
   "source": [
    "## <span style=\"color:black;\">Gdal_Translate</span>\n",
    "\n",
    "To run, replace the input for the landsat image (LC08_L2SP_022039_20190322_20200829_02_T1_SR_B2.tif)\n",
    "\n",
    "List raster drivers\n",
    "```sh\n",
    "> gdal_translate --formats\n",
    "```\n",
    "\n",
    "Convert between raster formats\n",
    "```sh\n",
    "> gdal_translate -of \"JP2OpenJPEG\" input.tif output.jp2\n",
    "```\n",
    "\n",
    "```sh\n",
    "> gdal_translate -of \"ENVI\" input.tif output.envi\n",
    "```\n",
    "\n",
    "Compress my data in LZW\n",
    "```sh\n",
    "> gdal_translate -of \"GTiff\" -co \"COMPRESS=LZW\" LC08_L2SP_022039_20190322_20200829_02_T1_SR_B2.TIF output_compress.tif\n",
    "```\n"
   ],
   "metadata": {
    "collapsed": false
   }
  },
  {
   "cell_type": "markdown",
   "source": [
    "## <span style=\"color:black;\">GdalWarp</span>\n",
    "\n",
    "The gdalwarp has many applications, including reprojection, mosaicing, resampling pixel size, set nodata, cut the raster with other shapefile, and more.\n",
    "To understand the full list of options, see the parameters in [gdalwarp page](https://gdal.org/programs/gdalwarp.html#gdalwarp)\n",
    "\n",
    "\n",
    "Clip raster with shapefile for pixels within polygon boundary\n",
    "```sh\n",
    "> gdalwarp -crop_to_cutline -cutline lake_within_landsat.shp input.tif output.tif\n",
    "```\n",
    "\n",
    "Change no data\n",
    "```sh\n",
    "> gdalwarp -srcnodata -999999 -dstnodata 0 input.tif output.tif\n",
    "```\n",
    "\n",
    "Reproject raster\n",
    "```sh\n",
    "> gdalwarp -srcnodata -t_srs \"EPSG:4326\" input.tif output.tif\n",
    "```\n",
    "\n",
    "## <span style=\"color:black;\">Gdal_Build_VRT</span>\n",
    "\n",
    "Merge rasters\n",
    "\n",
    "```sh\n",
    "> dir /b *.tif > filelist.txt\n",
    "> gdalbuildvrt -input_file_list filelist.txt merged.vrt\n",
    "> gdalwarp merged.vrt output.tif\n",
    "```"
   ],
   "metadata": {
    "collapsed": false
   }
  }
 ],
 "metadata": {
  "kernelspec": {
   "display_name": "Python 3 (ipykernel)",
   "language": "python",
   "name": "python3"
  },
  "language_info": {
   "codemirror_mode": {
    "name": "ipython",
    "version": 3
   },
   "file_extension": ".py",
   "mimetype": "text/x-python",
   "name": "python",
   "nbconvert_exporter": "python",
   "pygments_lexer": "ipython3",
   "version": "3.7.16"
  },
  "toc": {
   "base_numbering": 1,
   "nav_menu": {},
   "number_sections": false,
   "sideBar": true,
   "skip_h1_title": false,
   "title_cell": "Table of Contents",
   "title_sidebar": "Contents",
   "toc_cell": false,
   "toc_position": {},
   "toc_section_display": true,
   "toc_window_display": false
  }
 },
 "nbformat": 4,
 "nbformat_minor": 4
}
