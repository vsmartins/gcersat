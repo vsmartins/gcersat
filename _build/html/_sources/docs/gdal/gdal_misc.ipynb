{
 "cells": [
  {
   "cell_type": "markdown",
   "source": [
    "# <span style=\"color:black;\">GDAL programs</span>\n",
    "## <span style=\"color:black;\">Overview</span>\n",
    "\n",
    "By Vitor Martins, and revised by _____\n",
    "\n",
    "From [GDAL webpage](https://gdal.org/index.html): \"GDAL is a translator library for raster and vector geospatial data formats that is released under an MIT style Open Source License by the Open Source Geospatial Foundation. As a library, it presents a single raster abstract data model and single vector abstract data model to the calling application for all supported formats. It also comes with a variety of useful command line utilities for data translation and processing.\".\n"
   ],
   "metadata": {
    "collapsed": false
   }
  },
  {
   "cell_type": "markdown",
   "source": [
    "## <span style=\"color:black;\">Installation</span>\n",
    "\n",
    "The GDAL installation is part of many software, including QGIS. I suggest the OSGeo4W for Windows. Go to the OSGeo4W website: https://trac.osgeo.org/osgeo4w/, select the 64-bit version (most computers), and run the installer. Once you finish it, you can open the command line and verify if your computer is \"finding\" the gdal programs (e.g., gdalinfo, gdal_translate, gdalwarp etc).\n",
    "Type:\n",
    "```sh\n",
    "> gdalinfo\n",
    "```\n",
    "If the result is several lines explaining the gdalinfo parameters, you are good! Otherwise, you should set up environment variable to make it easier to use GDAL from the command line. Learn how to set an environmental variable, and you will include the OSGEO bin path (e.g., C:\\OSGeo4W64\\bin).\n",
    "\n",
    "You will also need to set up other variables to prevent errors with projections (e.g., cannot find proj.db). If your OSGeo4W is located in \"C:\\OSGeo4W\", run the below commands line-by-line in the Windows command:\n",
    "```sh\n",
    "setx PATH \"%PATH%;C:\\OSGeo4W\\bin\"\n",
    "setx GDAL_DATA \"C:\\OSGeo4W\\share\\gdal\"\n",
    "setx PROJ_LIB \"C:\\OSGeo4W\\share\\proj\"\n",
    "```\n",
    "Restart your prompt (close and open it). Now you will test the gdalinfo again."
   ],
   "metadata": {
    "collapsed": false
   }
  },
  {
   "cell_type": "markdown",
   "source": [
    "## <span style=\"color:black;\">GDAL raster programs</span>\n",
    "\n",
    "Below I selected the most common GDAL programs that you will use for satellite image processing:\n",
    "gdalinfo: Lists information about a raster dataset.\n",
    "\n",
    "gdalwarp: Image reprojection and warping utility.\n",
    "\n",
    "gdal_translate: Converts raster data between different formats.\n",
    "\n",
    "gdalbuildvrt: Builds a VRT from a list of datasets.\n",
    "\n",
    "gdal_rasterize: Burns vector geometries into a raster.\n",
    "\n",
    "gdal_polygonize.py: Produces a polygon feature layer from a raster.\n",
    "\n"
   ],
   "metadata": {
    "collapsed": false
   }
  },
  {
   "cell_type": "markdown",
   "source": [
    "## <span style=\"color:black;\">GDALINFO</span>\n",
    "\n",
    "```sh\n",
    "gdalinfo LC08_L2SP_022039_20190322_20200829_02_T1_SR_B2.TIF\n",
    "```\n",
    "\n",
    "```{image} /_statics/gdalinfo.png\n",
    ":width: 750px\n",
    ":align: center\n",
    "```"
   ],
   "metadata": {
    "collapsed": false
   }
  },
  {
   "cell_type": "markdown",
   "source": [
    "## <span style=\"color:black;\">GDAL_TRANSLATE</span>\n",
    "\n",
    "To run, replace the input for the landsat image (LC08_L2SP_022039_20190322_20200829_02_T1_SR_B2.tif)\n",
    "\n",
    "List raster drivers\n",
    "```sh\n",
    "> gdal_translate --formats\n",
    "```\n",
    "\n",
    "Convert between raster formats\n",
    "```sh\n",
    "> gdal_translate -of \"JP2OpenJPEG\" input.tif output.jp2\n",
    "```\n",
    "\n",
    "```sh\n",
    "> gdal_translate -of \"ENVI\" input.tif output.envi\n",
    "```\n",
    "\n",
    "Compress my data in LZW\n",
    "> gdal_translate -of \"GTiff\" -co \"COMPRESS=LZW\" LC08_L2SP_022039_20190322_20200829_02_T1_SR_B2.TIF output_compress.tif\n"
   ],
   "metadata": {
    "collapsed": false
   }
  },
  {
   "cell_type": "markdown",
   "source": [
    "## <span style=\"color:black;\">GDALWARP</span>\n",
    "\n",
    "The gdalwarp has many applications, including reprojection, mosaicing, resampling pixel size, set nodata, cut the raster with other shapefile, and more.\n",
    "To understand the full list of options, see the parameters in [gdalwarp page](https://gdal.org/programs/gdalwarp.html#gdalwarp)\n",
    "\n",
    "\n",
    "Clip raster with shapefile for pixels within polygon boundary\n",
    "```sh\n",
    "> gdalwarp -crop_to_cutline -cutline lake_within_landsat.shp input.tif output.tif\n",
    "```\n",
    "\n",
    "Change no data\n",
    "```sh\n",
    "> gdalwarp -srcnodata -999999 -dstnodata 0 input.tif output.tif\n",
    "```\n",
    "\n",
    "Reproject raster\n",
    "```sh\n",
    "> gdalwarp -srcnodata -t_srs \"EPSG:4326\" input.tif output.tif\n",
    "```\n",
    "\n",
    "## <span style=\"color:black;\">GDAL_BUILD_VRT</span>\n",
    "\n",
    "Merge rasters\n",
    "\n",
    "```sh\n",
    "> dir /b *.tif > filelist.txt\n",
    "> gdalbuildvrt -input_file_list filelist.txt merged.vrt\n",
    "> gdalwarp merged.vrt output.tif\n",
    "```"
   ],
   "metadata": {
    "collapsed": false
   }
  }
 ],
 "metadata": {
  "kernelspec": {
   "display_name": "Python 3 (ipykernel)",
   "language": "python",
   "name": "python3"
  },
  "language_info": {
   "codemirror_mode": {
    "name": "ipython",
    "version": 3
   },
   "file_extension": ".py",
   "mimetype": "text/x-python",
   "name": "python",
   "nbconvert_exporter": "python",
   "pygments_lexer": "ipython3",
   "version": "3.7.16"
  },
  "toc": {
   "base_numbering": 1,
   "nav_menu": {},
   "number_sections": false,
   "sideBar": true,
   "skip_h1_title": false,
   "title_cell": "Table of Contents",
   "title_sidebar": "Contents",
   "toc_cell": false,
   "toc_position": {},
   "toc_section_display": true,
   "toc_window_display": false
  }
 },
 "nbformat": 4,
 "nbformat_minor": 4
}
