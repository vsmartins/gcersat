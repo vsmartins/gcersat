{
 "cells": [
  {
   "cell_type": "markdown",
   "source": [
    "# <span style=\"color:black;\">EVI Phenology</span>\n"
   ],
   "metadata": {
    "collapsed": false
   }
  },
  {
   "cell_type": "markdown",
   "source": [
    "***Developed by Uilson Aires***\n",
    "\n",
    "## <span style=\"color:black;\">Extract pixel values from raster</span>\n"
   ],
   "metadata": {
    "collapsed": false
   }
  },
  {
   "cell_type": "markdown",
   "source": [
    "Extracting raster values for a specific geographic coordinate is very useful to obtain surface information. It can provide data for several applications, such as environmental monitoring, water resource management, agriculture, urban planning, and more. In this tutorial, we will learn how to use Python to obtain and plot a timeseries of [enhanced vegetation index (EVI)](https://bikeshbade.com.np/tutorials/Detail/?title=All%20you%20need%20to%20know%20about%20EVI&code=21) for a specific longitude and latitude coordinate. The following libraries will be required for this tutorial:"
   ],
   "metadata": {
    "collapsed": false
   }
  },
  {
   "cell_type": "code",
   "execution_count": 60,
   "outputs": [],
   "source": [
    "# Import libraries\n",
    "import os\n",
    "import glob\n",
    "import pyproj\n",
    "import rasterio\n",
    "import numpy as np\n",
    "import matplotlib.pyplot as plt\n"
   ],
   "metadata": {
    "collapsed": false,
    "ExecuteTime": {
     "end_time": "2023-09-26T22:01:53.634903800Z",
     "start_time": "2023-09-26T22:01:53.620616800Z"
    }
   }
  },
  {
   "cell_type": "markdown",
   "source": [
    "Now we need to read the EVI files, which you can [download](https://github.com/uvaires/extract_pixels_values/tree/gh-pages) and save them in your machine. Please make sure you change the directory in the code where the images are located. The EVI where calculate from [harmonizes landsat sentinel (HLS)](https://search.earthdata.nasa.gov/search/granules?p=C2021957657-LPCLOUD&pg[0][v]=f&pg[0][gsk]=-start_date&q=HLS%20v2.0&tl=1690213798!3!!) product for tile T15SYT located in the north region of Mississippi State, US."
   ],
   "metadata": {
    "collapsed": false
   }
  },
  {
   "cell_type": "code",
   "execution_count": 61,
   "outputs": [
    {
     "name": "stdout",
     "output_type": "stream",
     "text": [
      "['C:\\\\tutorial\\\\evi_clip\\\\evi_2022-03-31.tif', 'C:\\\\tutorial\\\\evi_clip\\\\evi_2022-04-10.tif', 'C:\\\\tutorial\\\\evi_clip\\\\evi_2022-04-14.tif', 'C:\\\\tutorial\\\\evi_clip\\\\evi_2022-04-15.tif', 'C:\\\\tutorial\\\\evi_clip\\\\evi_2022-04-22.tif', 'C:\\\\tutorial\\\\evi_clip\\\\evi_2022-06-19.tif', 'C:\\\\tutorial\\\\evi_clip\\\\evi_2022-06-24.tif', 'C:\\\\tutorial\\\\evi_clip\\\\evi_2022-06-25.tif', 'C:\\\\tutorial\\\\evi_clip\\\\evi_2022-06-29.tif', 'C:\\\\tutorial\\\\evi_clip\\\\evi_2022-09-12.tif', 'C:\\\\tutorial\\\\evi_clip\\\\evi_2022-09-13.tif', 'C:\\\\tutorial\\\\evi_clip\\\\evi_2022-09-21.tif', 'C:\\\\tutorial\\\\evi_clip\\\\evi_2022-09-22.tif', 'C:\\\\tutorial\\\\evi_clip\\\\evi_2022-09-27.tif', 'C:\\\\tutorial\\\\evi_clip\\\\evi_2022-09-29.tif', 'C:\\\\tutorial\\\\evi_clip\\\\evi_2022-10-02.tif', 'C:\\\\tutorial\\\\evi_clip\\\\evi_2022-10-15.tif', 'C:\\\\tutorial\\\\evi_clip\\\\evi_2022-10-17.tif', 'C:\\\\tutorial\\\\evi_clip\\\\evi_2022-10-27.tif']\n"
     ]
    }
   ],
   "source": [
    "# Input directory\n",
    "dir_input = r'C:\\tutorial'\n",
    "# Read the images\n",
    "evi_img = glob.glob(os.path.join(dir_input,'**', 'evi*.tif'), recursive=True)\n",
    "print(evi_img)"
   ],
   "metadata": {
    "collapsed": false,
    "ExecuteTime": {
     "end_time": "2023-09-26T22:02:50.451891200Z",
     "start_time": "2023-09-26T22:02:50.426892700Z"
    }
   }
  },
  {
   "cell_type": "markdown",
   "source": [
    "To extract the pixel information from several rasters, we have to combine multiple raster layers into a single multi-band raster. This can be useful for various tasks, such as creating RGB images from separate Red, Green, and Blue bands, stacking time-series data, or combining different data sources into a single dataset."
   ],
   "metadata": {
    "collapsed": false
   }
  },
  {
   "cell_type": "code",
   "execution_count": 62,
   "outputs": [
    {
     "data": {
      "text/plain": "(160, 186, 19)"
     },
     "execution_count": 62,
     "metadata": {},
     "output_type": "execute_result"
    }
   ],
   "source": [
    "# Create an empty list to store the loaded layers\n",
    "evi_layers = []\n",
    "# Loop through the EVI images and load them\n",
    "for evi_path in evi_img:\n",
    "    with rasterio.open(evi_path) as src:\n",
    "        evi_layer = src.read(1)\n",
    "        evi_layers.append(evi_layer)\n",
    "\n",
    "# Stack the EVI layers using np.dstack\n",
    "stacked_evi = np.dstack(evi_layers)\n",
    "stacked_evi.shape"
   ],
   "metadata": {
    "collapsed": false,
    "ExecuteTime": {
     "end_time": "2023-09-26T22:02:59.528146700Z",
     "start_time": "2023-09-26T22:02:59.465561100Z"
    }
   }
  },
  {
   "cell_type": "markdown",
   "source": [
    "Now we can specify a latitude and longitude coordinate of an interest region in [World Geodetic System (WGS84)](https://gisgeography.com/wgs84-world-geodetic-system/), which will be used to extract evi timeseries."
   ],
   "metadata": {
    "collapsed": false
   }
  },
  {
   "cell_type": "code",
   "execution_count": 63,
   "outputs": [],
   "source": [
    "# Specified latitude and longitude\n",
    "lat, lon = 33.537373878071, -90.362358867976"
   ],
   "metadata": {
    "collapsed": false,
    "ExecuteTime": {
     "end_time": "2023-09-26T22:03:03.017029500Z",
     "start_time": "2023-09-26T22:03:03.003009900Z"
    }
   }
  },
  {
   "cell_type": "markdown",
   "source": [
    "As the coordinates are in WGS84, we need to convert them for the same coordinates of our input images, which are in [Universal Transverse Mercator (UTM)](https://www.usgs.gov/faqs/what-does-term-utm-mean-utm-better-or-more-accurate-latitudelongitude). UTM coordinates are expressed in metric units (meters), which are more suitable for precise measurements, calculations, and spatial analysis compared to degrees in geographic coordinates. Metric units are particularly advantageous when calculating distances, areas, and other spatial measurements."
   ],
   "metadata": {
    "collapsed": false
   }
  },
  {
   "cell_type": "code",
   "execution_count": 64,
   "outputs": [],
   "source": [
    "# Function to convert the coordinates of the images\n",
    "def reproject_coords(input_raster, lon, lat):\n",
    "    # Open the input raster to obtain its coordinate reference system (CRS)\n",
    "    with rasterio.open(input_raster[0]) as src:\n",
    "        proj = src.crs.to_epsg()  # Get the EPSG code of the raster's CRS\n",
    "\n",
    "    # Define the original coordinate reference system as WGS 84 (EPSG:4326)\n",
    "    original_proj = pyproj.CRS(\"EPSG:4326\")\n",
    "\n",
    "    # Create the target coordinate reference system based on the EPSG code of the raster's CRS\n",
    "    target_proj = pyproj.CRS(\"EPSG:\" + str(proj))\n",
    "\n",
    "    # Create a transformer object for coordinate transformation\n",
    "    transformer = pyproj.Transformer.from_crs(original_proj, target_proj, always_xy=True)\n",
    "\n",
    "    # Use the transformer to convert the input latitude and longitude to UTM coordinates\n",
    "    lon_utm, lat_utm = transformer.transform(lon, lat)\n",
    "\n",
    "    # Return the UTM easting (X) and northing (Y) coordinates\n",
    "    return lon_utm, lat_utm"
   ],
   "metadata": {
    "collapsed": false,
    "ExecuteTime": {
     "end_time": "2023-09-26T22:03:05.861410500Z",
     "start_time": "2023-09-26T22:03:05.843161600Z"
    }
   }
  },
  {
   "cell_type": "code",
   "execution_count": 65,
   "outputs": [
    {
     "name": "stdout",
     "output_type": "stream",
     "text": [
      "(744926.9121044673, 3713978.869997402)\n"
     ]
    }
   ],
   "source": [
    "# Reproject the coordinates from WG84 to UTM\n",
    "coords_preproj = reproject_coords(evi_img, lon, lat)\n",
    "print(coords_preproj)"
   ],
   "metadata": {
    "collapsed": false,
    "ExecuteTime": {
     "end_time": "2023-09-26T22:03:06.888050400Z",
     "start_time": "2023-09-26T22:03:06.870039800Z"
    }
   }
  },
  {
   "cell_type": "markdown",
   "source": [
    "To extrac the pixel values to our lat and long is necessary to convert the geographic coordinates to pixel coordinates within a raster. Raster datasets are structured as grids of pixels, where each pixel represents a specific area on the Earth's surface. To work with raster data effectively, it's essential to align your geographic coordinates (latitude and longitude) with the grid of the raster."
   ],
   "metadata": {
    "collapsed": false
   }
  },
  {
   "cell_type": "code",
   "execution_count": 66,
   "outputs": [
    {
     "name": "stdout",
     "output_type": "stream",
     "text": [
      "[0.10460394 0.11798723 0.13999657 0.10465156 0.15005945 0.22576557\n",
      " 0.2339059  0.29257447 0.29473507 0.5715145  0.6149399  0.51590955\n",
      " 0.38220865 0.2742439  0.30013332 0.2250008  0.15824258 0.12402089\n",
      " 0.12401063]\n"
     ]
    }
   ],
   "source": [
    "# Open the first EVI raster to obtain its CRS and transform\n",
    "with rasterio.open(evi_img[0]) as src:\n",
    "    crs = src.crs\n",
    "    transform = src.transform\n",
    "\n",
    "# Transform latitude and longitude to pixel coordinates (row and column)\n",
    "col, row = ~transform *(coords_preproj[0], coords_preproj[1])\n",
    "# Extract the EVI time series at the specified pixel location\n",
    "evi_values = stacked_evi[int(row), int(col),:]\n",
    "print(evi_values)"
   ],
   "metadata": {
    "collapsed": false,
    "ExecuteTime": {
     "end_time": "2023-09-26T22:03:11.416352700Z",
     "start_time": "2023-09-26T22:03:11.403785100Z"
    }
   }
  },
  {
   "cell_type": "markdown",
   "source": [],
   "metadata": {
    "collapsed": false
   }
  },
  {
   "cell_type": "markdown",
   "source": [
    "Before plotting the EVI values, we will obtain the date of each raster. As we do not have the metadata of the images, let's use the OS library to extract the date from the image titles."
   ],
   "metadata": {
    "collapsed": false
   }
  },
  {
   "cell_type": "code",
   "execution_count": 67,
   "outputs": [
    {
     "name": "stdout",
     "output_type": "stream",
     "text": [
      "['2022-03-31', '2022-04-10', '2022-04-14', '2022-04-15', '2022-04-22', '2022-06-19', '2022-06-24', '2022-06-25', '2022-06-29', '2022-09-12', '2022-09-13', '2022-09-21', '2022-09-22', '2022-09-27', '2022-09-29', '2022-10-02', '2022-10-15', '2022-10-17', '2022-10-27']\n"
     ]
    }
   ],
   "source": [
    "evi_dates = []\n",
    "# Extract dates from the filenames and add them to the list\n",
    "for dates in evi_img:\n",
    "    date = os.path.basename(dates).split('_')[1].split('.')[0]\n",
    "    evi_dates.append(date)\n",
    "\n",
    "print(evi_dates)"
   ],
   "metadata": {
    "collapsed": false,
    "ExecuteTime": {
     "end_time": "2023-09-26T22:03:20.710026400Z",
     "start_time": "2023-09-26T22:03:20.697598400Z"
    }
   }
  },
  {
   "cell_type": "markdown",
   "source": [
    "Now we can plot the EVI timeseries:"
   ],
   "metadata": {
    "collapsed": false
   }
  },
  {
   "cell_type": "code",
   "execution_count": 68,
   "outputs": [
    {
     "data": {
      "text/plain": "<Figure size 1000x600 with 1 Axes>",
      "image/png": "[encoded data removed]"
     },
     "metadata": {},
     "output_type": "display_data"
    }
   ],
   "source": [
    "# Plot the complete EVI time series\n",
    "plt.scatter(evi_dates, evi_values, label='EVI Values')\n",
    "plt.title(f'EVI Time Series for Lat: {lat}, Lon: {lon}')\n",
    "plt.xlabel('Time')\n",
    "plt.ylabel('EVI Value')\n",
    "plt.xticks(rotation=45)\n",
    "plt.legend()\n",
    "# Set the size\n",
    "fig = plt.gcf()\n",
    "fig.set_size_inches(10, 6)\n",
    "plt.show()\n"
   ],
   "metadata": {
    "collapsed": false,
    "ExecuteTime": {
     "end_time": "2023-09-26T22:03:23.052550400Z",
     "start_time": "2023-09-26T22:03:22.930974400Z"
    }
   }
  },
  {
   "cell_type": "markdown",
   "source": [
    "We can notice a characteristic pattern in the EVI plot, often observed in areas with seasonal vegetation cycles. This pattern can be explained by the natural growth and senescence of vegetation over the course of a year. In agriculture, the behavior of EVI for an annual crop reflects the different stages of its growth and development throughout the growing season. Monitoring EVI over time can provide valuable information about crop health, phenological stages, and yield potential. This information is essential for agricultural management decisions, such as timing planting and harvesting operations and assessing crop stress or disease."
   ],
   "metadata": {
    "collapsed": false
   }
  }
 ],
 "metadata": {
  "kernelspec": {
   "display_name": "Python 3",
   "language": "python",
   "name": "python3"
  },
  "language_info": {
   "codemirror_mode": {
    "name": "ipython",
    "version": 2
   },
   "file_extension": ".py",
   "mimetype": "text/x-python",
   "name": "python",
   "nbconvert_exporter": "python",
   "pygments_lexer": "ipython2",
   "version": "2.7.6"
  }
 },
 "nbformat": 4,
 "nbformat_minor": 0
}
